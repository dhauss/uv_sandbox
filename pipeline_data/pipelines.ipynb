{
 "cells": [
  {
   "cell_type": "code",
   "execution_count": 1,
   "id": "7014d5dc-7f59-4735-8d12-d75cdf604d22",
   "metadata": {},
   "outputs": [],
   "source": [
    "import pandas as pd"
   ]
  },
  {
   "cell_type": "code",
   "execution_count": 10,
   "id": "706b8336-57eb-4d22-adb4-3053317a6a65",
   "metadata": {},
   "outputs": [],
   "source": [
    "pipelines_path = \"EIA-NaturalGasPipelineProjects_Jul2024.xlsx - Historical Projects (1996-2023).csv\"\n",
    "pipelines_raw = pd.read_csv(pipelines_path, skiprows=[0])\n",
    "pipelines_raw[\"Year In Service Date\"] = pd.to_numeric(pipelines_raw[\"Year In Service Date\"], errors='coerce')"
   ]
  },
  {
   "cell_type": "code",
   "execution_count": 11,
   "id": "9e676e91-5fcd-4e3b-b316-423dfa233fc4",
   "metadata": {},
   "outputs": [
    {
     "name": "stdout",
     "output_type": "stream",
     "text": [
      "<class 'pandas.core.frame.DataFrame'>\n",
      "RangeIndex: 1140 entries, 0 to 1139\n",
      "Data columns (total 25 columns):\n",
      " #   Column                        Non-Null Count  Dtype  \n",
      "---  ------                        --------------  -----  \n",
      " 0   Last Updated Date             1140 non-null   object \n",
      " 1   Project Name                  1140 non-null   object \n",
      " 2   Pipeline Operator Name        1140 non-null   object \n",
      " 3   Project Type                  1139 non-null   object \n",
      " 4   Status                        1140 non-null   object \n",
      " 5   Completed Date                1081 non-null   object \n",
      " 6   Year In Service Date          1095 non-null   float64\n",
      " 7   State(s)                      1140 non-null   object \n",
      " 8   Beg_State                     1140 non-null   object \n",
      " 9   End_State                     1140 non-null   object \n",
      " 10  Region(s)                     1137 non-null   object \n",
      " 11  Beg_Region                    1139 non-null   object \n",
      " 12  End_Region                    1137 non-null   object \n",
      " 13  Thru_Region                   39 non-null     object \n",
      " 14   Cost (millions)              1012 non-null   object \n",
      " 15   Miles                        848 non-null    object \n",
      " 16  Additional Capacity (MMcf/d)  1091 non-null   object \n",
      " 17  Pipeline Diameter (Inches)    843 non-null    object \n",
      " 18  Pipeline Type                 1138 non-null   object \n",
      " 19  Authority                     1119 non-null   object \n",
      " 20  Docket Number                 1087 non-null   object \n",
      " 21  Crosses State Border          358 non-null    object \n",
      " 22  Project Notes                 228 non-null    object \n",
      " 23  Demand Served                 74 non-null     object \n",
      " 24  Website                       93 non-null     object \n",
      "dtypes: float64(1), object(24)\n",
      "memory usage: 222.8+ KB\n"
     ]
    },
    {
     "data": {
      "text/plain": [
       "(1140, 25)"
      ]
     },
     "execution_count": 11,
     "metadata": {},
     "output_type": "execute_result"
    }
   ],
   "source": [
    "pipelines_raw.info()\n",
    "pipelines_raw.shape"
   ]
  },
  {
   "cell_type": "code",
   "execution_count": 21,
   "id": "41c3e2ec-7f57-4dd2-aedb-3b65de27f3fc",
   "metadata": {},
   "outputs": [
    {
     "data": {
      "text/plain": [
       "(68, 25)"
      ]
     },
     "execution_count": 21,
     "metadata": {},
     "output_type": "execute_result"
    }
   ],
   "source": [
    "pipelines_ny = pipelines_raw[pipelines_raw[\"State(s)\"].str.contains(\"NY\", na=False)]\n",
    "pipelines_ny.shape"
   ]
  },
  {
   "cell_type": "code",
   "execution_count": 22,
   "id": "8d4e721b-64b6-4948-b938-570b0b7f810b",
   "metadata": {},
   "outputs": [],
   "source": [
    "pipelines_ny_2019 = pipelines_ny[pipelines_ny[\"Year In Service Date\"] >= 2019]"
   ]
  },
  {
   "cell_type": "code",
   "execution_count": 23,
   "id": "6c05f8a3-fe4d-48dc-a852-081abb6a9ad2",
   "metadata": {},
   "outputs": [
    {
     "data": {
      "text/plain": [
       "(6, 25)"
      ]
     },
     "execution_count": 23,
     "metadata": {},
     "output_type": "execute_result"
    }
   ],
   "source": [
    "pipelines_ny_2019.head()\n",
    "pipelines_ny_2019.shape"
   ]
  },
  {
   "cell_type": "code",
   "execution_count": 24,
   "id": "07bba7ba-0cf2-4233-afd8-f7f19c186159",
   "metadata": {},
   "outputs": [],
   "source": [
    "pipelines_ny_2019_canceled = pipelines_ny_2019[~pipelines_ny_2019[\"Status\"].str.contains(\"Approved\")]"
   ]
  },
  {
   "cell_type": "code",
   "execution_count": 25,
   "id": "fe84ac98-6e68-49e8-93ce-b11013c4a30f",
   "metadata": {},
   "outputs": [
    {
     "data": {
      "text/html": [
       "<div>\n",
       "<style scoped>\n",
       "    .dataframe tbody tr th:only-of-type {\n",
       "        vertical-align: middle;\n",
       "    }\n",
       "\n",
       "    .dataframe tbody tr th {\n",
       "        vertical-align: top;\n",
       "    }\n",
       "\n",
       "    .dataframe thead th {\n",
       "        text-align: right;\n",
       "    }\n",
       "</style>\n",
       "<table border=\"1\" class=\"dataframe\">\n",
       "  <thead>\n",
       "    <tr style=\"text-align: right;\">\n",
       "      <th></th>\n",
       "      <th>Last Updated Date</th>\n",
       "      <th>Project Name</th>\n",
       "      <th>Pipeline Operator Name</th>\n",
       "      <th>Project Type</th>\n",
       "      <th>Status</th>\n",
       "      <th>Completed Date</th>\n",
       "      <th>Year In Service Date</th>\n",
       "      <th>State(s)</th>\n",
       "      <th>Beg_State</th>\n",
       "      <th>End_State</th>\n",
       "      <th>...</th>\n",
       "      <th>Miles</th>\n",
       "      <th>Additional Capacity (MMcf/d)</th>\n",
       "      <th>Pipeline Diameter (Inches)</th>\n",
       "      <th>Pipeline Type</th>\n",
       "      <th>Authority</th>\n",
       "      <th>Docket Number</th>\n",
       "      <th>Crosses State Border</th>\n",
       "      <th>Project Notes</th>\n",
       "      <th>Demand Served</th>\n",
       "      <th>Website</th>\n",
       "    </tr>\n",
       "  </thead>\n",
       "  <tbody>\n",
       "    <tr>\n",
       "      <th>67</th>\n",
       "      <td>2/26/2021</td>\n",
       "      <td>Atlantic Bridge Project Phase 2</td>\n",
       "      <td>Algonquin Gas Transmission</td>\n",
       "      <td>Expansion</td>\n",
       "      <td>Completed</td>\n",
       "      <td>1/25/2021</td>\n",
       "      <td>2021.0</td>\n",
       "      <td>NJ,NY,CT,RI,MA</td>\n",
       "      <td>NJ</td>\n",
       "      <td>MA</td>\n",
       "      <td>...</td>\n",
       "      <td>6</td>\n",
       "      <td>93</td>\n",
       "      <td>42</td>\n",
       "      <td>Interstate</td>\n",
       "      <td>FERC</td>\n",
       "      <td>CP16-9</td>\n",
       "      <td>Yes</td>\n",
       "      <td>Incremental capacity increase into New England</td>\n",
       "      <td>NaN</td>\n",
       "      <td>https://www.enbridge.com/projects-and-infrastr...</td>\n",
       "    </tr>\n",
       "    <tr>\n",
       "      <th>281</th>\n",
       "      <td>8/14/2019</td>\n",
       "      <td>Eastern System Upgrade Project</td>\n",
       "      <td>Millennium Pipeline</td>\n",
       "      <td>Expansion</td>\n",
       "      <td>Completed</td>\n",
       "      <td>3/19/2019</td>\n",
       "      <td>2019.0</td>\n",
       "      <td>NY</td>\n",
       "      <td>NY</td>\n",
       "      <td>NY</td>\n",
       "      <td>...</td>\n",
       "      <td>8.00</td>\n",
       "      <td>223</td>\n",
       "      <td>30,36</td>\n",
       "      <td>interstate</td>\n",
       "      <td>FERC</td>\n",
       "      <td>CP16-486</td>\n",
       "      <td>No</td>\n",
       "      <td>NaN</td>\n",
       "      <td>NaN</td>\n",
       "      <td>http://www.millenniumpipeline.com/eastern-syst...</td>\n",
       "    </tr>\n",
       "    <tr>\n",
       "      <th>305</th>\n",
       "      <td>6/26/2020</td>\n",
       "      <td>Empire North Expansion Project</td>\n",
       "      <td>Empire Pipeline</td>\n",
       "      <td>Expansion</td>\n",
       "      <td>Completed</td>\n",
       "      <td>6/26/2020</td>\n",
       "      <td>2020.0</td>\n",
       "      <td>PA,NY,ON</td>\n",
       "      <td>PA</td>\n",
       "      <td>ON</td>\n",
       "      <td>...</td>\n",
       "      <td>25</td>\n",
       "      <td>300</td>\n",
       "      <td>26</td>\n",
       "      <td>Interstate</td>\n",
       "      <td>FERC</td>\n",
       "      <td>CP18-89</td>\n",
       "      <td>Yes</td>\n",
       "      <td>NaN</td>\n",
       "      <td>NaN</td>\n",
       "      <td>https://www.natfuel.com/pipelineandstorage/emp...</td>\n",
       "    </tr>\n",
       "    <tr>\n",
       "      <th>508</th>\n",
       "      <td>12/28/2022</td>\n",
       "      <td>Leidy North Project</td>\n",
       "      <td>Dominion Energy Transmission Co</td>\n",
       "      <td>Expansion</td>\n",
       "      <td>Completed</td>\n",
       "      <td>8/18/2020</td>\n",
       "      <td>2020.0</td>\n",
       "      <td>PA,NY</td>\n",
       "      <td>PA</td>\n",
       "      <td>NY</td>\n",
       "      <td>...</td>\n",
       "      <td>NaN</td>\n",
       "      <td>10</td>\n",
       "      <td>NaN</td>\n",
       "      <td>Interstate</td>\n",
       "      <td>FERC</td>\n",
       "      <td>CP20-480</td>\n",
       "      <td>Yes</td>\n",
       "      <td>Blanket certificate; uses existing horsepower ...</td>\n",
       "      <td>NaN</td>\n",
       "      <td>NaN</td>\n",
       "    </tr>\n",
       "    <tr>\n",
       "      <th>518</th>\n",
       "      <td>1/8/2020</td>\n",
       "      <td>Line KNYS Uprate Project</td>\n",
       "      <td>National Fuel Gas Supply Corp</td>\n",
       "      <td>Expansion</td>\n",
       "      <td>Completed</td>\n",
       "      <td>12/12/2019</td>\n",
       "      <td>2019.0</td>\n",
       "      <td>PA,NY</td>\n",
       "      <td>PA</td>\n",
       "      <td>NY</td>\n",
       "      <td>...</td>\n",
       "      <td>NaN</td>\n",
       "      <td>15</td>\n",
       "      <td>NaN</td>\n",
       "      <td>Interstate</td>\n",
       "      <td>FERC</td>\n",
       "      <td>CP18-491</td>\n",
       "      <td>Yes</td>\n",
       "      <td>Increase deliverability to NY and PA counties</td>\n",
       "      <td>NaN</td>\n",
       "      <td>NaN</td>\n",
       "    </tr>\n",
       "  </tbody>\n",
       "</table>\n",
       "<p>5 rows × 25 columns</p>\n",
       "</div>"
      ],
      "text/plain": [
       "    Last Updated Date                     Project Name  \\\n",
       "67          2/26/2021  Atlantic Bridge Project Phase 2   \n",
       "281         8/14/2019   Eastern System Upgrade Project   \n",
       "305         6/26/2020   Empire North Expansion Project   \n",
       "508        12/28/2022              Leidy North Project   \n",
       "518          1/8/2020         Line KNYS Uprate Project   \n",
       "\n",
       "              Pipeline Operator Name Project Type     Status Completed Date  \\\n",
       "67        Algonquin Gas Transmission    Expansion  Completed      1/25/2021   \n",
       "281              Millennium Pipeline    Expansion  Completed      3/19/2019   \n",
       "305                  Empire Pipeline    Expansion  Completed      6/26/2020   \n",
       "508  Dominion Energy Transmission Co    Expansion  Completed      8/18/2020   \n",
       "518    National Fuel Gas Supply Corp    Expansion  Completed     12/12/2019   \n",
       "\n",
       "     Year In Service Date        State(s) Beg_State End_State  ...  Miles   \\\n",
       "67                 2021.0  NJ,NY,CT,RI,MA        NJ        MA  ...      6    \n",
       "281                2019.0              NY        NY        NY  ...    8.00   \n",
       "305                2020.0        PA,NY,ON        PA        ON  ...     25    \n",
       "508                2020.0           PA,NY        PA        NY  ...     NaN   \n",
       "518                2019.0           PA,NY        PA        NY  ...     NaN   \n",
       "\n",
       "    Additional Capacity (MMcf/d) Pipeline Diameter (Inches) Pipeline Type  \\\n",
       "67                            93                         42    Interstate   \n",
       "281                          223                      30,36    interstate   \n",
       "305                          300                         26    Interstate   \n",
       "508                           10                        NaN   Interstate    \n",
       "518                           15                        NaN    Interstate   \n",
       "\n",
       "    Authority Docket Number Crosses State Border  \\\n",
       "67       FERC        CP16-9                  Yes   \n",
       "281      FERC      CP16-486                   No   \n",
       "305      FERC       CP18-89                  Yes   \n",
       "508      FERC      CP20-480                  Yes   \n",
       "518      FERC      CP18-491                  Yes   \n",
       "\n",
       "                                         Project Notes Demand Served  \\\n",
       "67      Incremental capacity increase into New England           NaN   \n",
       "281                                                NaN           NaN   \n",
       "305                                                NaN           NaN   \n",
       "508  Blanket certificate; uses existing horsepower ...           NaN   \n",
       "518     Increase deliverability to NY and PA counties            NaN   \n",
       "\n",
       "                                               Website  \n",
       "67   https://www.enbridge.com/projects-and-infrastr...  \n",
       "281  http://www.millenniumpipeline.com/eastern-syst...  \n",
       "305  https://www.natfuel.com/pipelineandstorage/emp...  \n",
       "508                                                NaN  \n",
       "518                                                NaN  \n",
       "\n",
       "[5 rows x 25 columns]"
      ]
     },
     "execution_count": 25,
     "metadata": {},
     "output_type": "execute_result"
    }
   ],
   "source": [
    "pipelines_ny_2019_canceled.head()"
   ]
  },
  {
   "cell_type": "code",
   "execution_count": 26,
   "id": "6193adcc-426e-4b26-bbe5-3a56f78cf156",
   "metadata": {},
   "outputs": [],
   "source": [
    "pipelines_ny.to_csv(\"pipelines_ny.csv\")\n",
    "pipelines_ny_2019.to_csv(\"pipelines_ny_2019.csv\")"
   ]
  },
  {
   "cell_type": "code",
   "execution_count": null,
   "id": "0dab8d68-16ed-450f-ad69-00b3c1863ace",
   "metadata": {},
   "outputs": [],
   "source": []
  }
 ],
 "metadata": {
  "kernelspec": {
   "display_name": "Python 3 (ipykernel)",
   "language": "python",
   "name": "python3"
  },
  "language_info": {
   "codemirror_mode": {
    "name": "ipython",
    "version": 3
   },
   "file_extension": ".py",
   "mimetype": "text/x-python",
   "name": "python",
   "nbconvert_exporter": "python",
   "pygments_lexer": "ipython3",
   "version": "3.12.3"
  }
 },
 "nbformat": 4,
 "nbformat_minor": 5
}
